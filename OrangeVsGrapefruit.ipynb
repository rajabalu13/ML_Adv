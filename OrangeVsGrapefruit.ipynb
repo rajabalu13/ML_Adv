{
  "nbformat": 4,
  "nbformat_minor": 0,
  "metadata": {
    "colab": {
      "name": "OrangeVsGrapefruit.ipynb",
      "provenance": [],
      "collapsed_sections": []
    },
    "kernelspec": {
      "name": "python3",
      "display_name": "Python 3"
    }
  },
  "cells": [
    {
      "cell_type": "markdown",
      "metadata": {
        "id": "0USeDgl7ECJN"
      },
      "source": [
        "# Importing Packages\n"
      ]
    },
    {
      "cell_type": "code",
      "metadata": {
        "id": "aAjvzQBlCJ6Z"
      },
      "source": [
        "import pandas as pd\n",
        "import numpy as np\n",
        "from sklearn import preprocessing\n",
        "from sklearn.model_selection import train_test_split\n",
        "from sklearn.neighbors import KNeighborsClassifier\n",
        "from sklearn.cluster import KMeans\n",
        "from sklearn import metrics\n",
        "import matplotlib.pyplot as plt"
      ],
      "execution_count": 138,
      "outputs": []
    },
    {
      "cell_type": "markdown",
      "metadata": {
        "id": "qflPFy7KFSV0"
      },
      "source": [
        "# Loading Dataset"
      ]
    },
    {
      "cell_type": "code",
      "metadata": {
        "id": "ZHIo8CCeFPSz",
        "outputId": "306d6645-36a4-4850-a080-6071a3d7d8cc",
        "colab": {
          "base_uri": "https://localhost:8080/",
          "height": 197
        }
      },
      "source": [
        "df = pd.read_csv('citrus.csv')\n",
        "df.head()"
      ],
      "execution_count": 139,
      "outputs": [
        {
          "output_type": "execute_result",
          "data": {
            "text/html": [
              "<div>\n",
              "<style scoped>\n",
              "    .dataframe tbody tr th:only-of-type {\n",
              "        vertical-align: middle;\n",
              "    }\n",
              "\n",
              "    .dataframe tbody tr th {\n",
              "        vertical-align: top;\n",
              "    }\n",
              "\n",
              "    .dataframe thead th {\n",
              "        text-align: right;\n",
              "    }\n",
              "</style>\n",
              "<table border=\"1\" class=\"dataframe\">\n",
              "  <thead>\n",
              "    <tr style=\"text-align: right;\">\n",
              "      <th></th>\n",
              "      <th>name</th>\n",
              "      <th>diameter</th>\n",
              "      <th>weight</th>\n",
              "      <th>red</th>\n",
              "      <th>green</th>\n",
              "      <th>blue</th>\n",
              "    </tr>\n",
              "  </thead>\n",
              "  <tbody>\n",
              "    <tr>\n",
              "      <th>0</th>\n",
              "      <td>orange</td>\n",
              "      <td>2.96</td>\n",
              "      <td>86.76</td>\n",
              "      <td>172</td>\n",
              "      <td>85</td>\n",
              "      <td>2</td>\n",
              "    </tr>\n",
              "    <tr>\n",
              "      <th>1</th>\n",
              "      <td>orange</td>\n",
              "      <td>3.91</td>\n",
              "      <td>88.05</td>\n",
              "      <td>166</td>\n",
              "      <td>78</td>\n",
              "      <td>3</td>\n",
              "    </tr>\n",
              "    <tr>\n",
              "      <th>2</th>\n",
              "      <td>orange</td>\n",
              "      <td>4.42</td>\n",
              "      <td>95.17</td>\n",
              "      <td>156</td>\n",
              "      <td>81</td>\n",
              "      <td>2</td>\n",
              "    </tr>\n",
              "    <tr>\n",
              "      <th>3</th>\n",
              "      <td>orange</td>\n",
              "      <td>4.47</td>\n",
              "      <td>95.60</td>\n",
              "      <td>163</td>\n",
              "      <td>81</td>\n",
              "      <td>4</td>\n",
              "    </tr>\n",
              "    <tr>\n",
              "      <th>4</th>\n",
              "      <td>orange</td>\n",
              "      <td>4.48</td>\n",
              "      <td>95.76</td>\n",
              "      <td>161</td>\n",
              "      <td>72</td>\n",
              "      <td>9</td>\n",
              "    </tr>\n",
              "  </tbody>\n",
              "</table>\n",
              "</div>"
            ],
            "text/plain": [
              "     name  diameter  weight  red  green  blue\n",
              "0  orange      2.96   86.76  172     85     2\n",
              "1  orange      3.91   88.05  166     78     3\n",
              "2  orange      4.42   95.17  156     81     2\n",
              "3  orange      4.47   95.60  163     81     4\n",
              "4  orange      4.48   95.76  161     72     9"
            ]
          },
          "metadata": {
            "tags": []
          },
          "execution_count": 139
        }
      ]
    },
    {
      "cell_type": "code",
      "metadata": {
        "id": "sj1uMN7pIic0"
      },
      "source": [
        "feature = df.iloc[:,1:]\n",
        "target = df['name']"
      ],
      "execution_count": 140,
      "outputs": []
    },
    {
      "cell_type": "markdown",
      "metadata": {
        "id": "9d_edTuQIO7e"
      },
      "source": [
        "# Label Encoding"
      ]
    },
    {
      "cell_type": "code",
      "metadata": {
        "id": "D5vu3iGzIR4l"
      },
      "source": [
        "le = preprocessing.LabelEncoder()\n",
        "target = le.fit_transform(target)"
      ],
      "execution_count": 141,
      "outputs": []
    },
    {
      "cell_type": "markdown",
      "metadata": {
        "id": "Yl2ZqzGhMO8w"
      },
      "source": [
        "# Train and Test Split\n"
      ]
    },
    {
      "cell_type": "code",
      "metadata": {
        "id": "zI33fRiFMTyQ"
      },
      "source": [
        "X_train, X_test, y_train, y_test = train_test_split(feature, target, test_size=0.3, random_state = 3)"
      ],
      "execution_count": 142,
      "outputs": []
    },
    {
      "cell_type": "markdown",
      "metadata": {
        "id": "xDi9I8k3Mf6Q"
      },
      "source": [
        "# KNN Model"
      ]
    },
    {
      "cell_type": "code",
      "metadata": {
        "id": "-c90OF65Mipl",
        "outputId": "b462c30d-a057-44e3-928c-b7e4e7755477",
        "colab": {
          "base_uri": "https://localhost:8080/"
        }
      },
      "source": [
        "knn = KNeighborsClassifier(n_neighbors=5)\n",
        "knn.fit(X_train, y_train)\n",
        "y_pred1 = knn.predict(X_test)\n",
        "print(\"Accuracy:\",metrics.accuracy_score(y_test, y_pred1))"
      ],
      "execution_count": 143,
      "outputs": [
        {
          "output_type": "stream",
          "text": [
            "Accuracy: 0.9096666666666666\n"
          ],
          "name": "stdout"
        }
      ]
    },
    {
      "cell_type": "markdown",
      "metadata": {
        "id": "z3H9zhm_mXBj"
      },
      "source": [
        "# KMeans Model"
      ]
    },
    {
      "cell_type": "code",
      "metadata": {
        "id": "wo8s-wzImoBL",
        "outputId": "b375c959-4871-4771-c8ee-6a3f67e439a4",
        "colab": {
          "base_uri": "https://localhost:8080/",
          "height": 457
        }
      },
      "source": [
        "x = feature.values\n",
        "Error =[]\n",
        "for i in range(1, 11):\n",
        "    kmeans = KMeans(n_clusters = i).fit(x)\n",
        "    kmeans.fit(x)\n",
        "    Error.append(kmeans.inertia_)\n",
        "plt.rcParams[\"figure.figsize\"] = (10,7)\n",
        "plt.plot(range(1, 11), Error)\n",
        "plt.title('Elbow method')\n",
        "plt.xlabel('No of clusters')\n",
        "plt.ylabel('Error')\n",
        "plt.show()"
      ],
      "execution_count": 144,
      "outputs": [
        {
          "output_type": "display_data",
          "data": {
            "image/png": "[encoded data removed]",
            "text/plain": [
              "<Figure size 720x504 with 1 Axes>"
            ]
          },
          "metadata": {
            "tags": [],
            "needs_background": "light"
          }
        }
      ]
    },
    {
      "cell_type": "code",
      "metadata": {
        "id": "5pSrHR4Umrmk",
        "outputId": "e744330d-a394-432a-c745-482e77d6da32",
        "colab": {
          "base_uri": "https://localhost:8080/"
        }
      },
      "source": [
        "kmeans = KMeans(n_clusters=2)\n",
        "y_pred2 = kmeans.fit_predict(X_test)\n",
        "print(\"Accuracy:\",metrics.accuracy_score(y_test, y_pred2))"
      ],
      "execution_count": 145,
      "outputs": [
        {
          "output_type": "stream",
          "text": [
            "Accuracy: 0.8916666666666667\n"
          ],
          "name": "stdout"
        }
      ]
    },
    {
      "cell_type": "markdown",
      "metadata": {
        "id": "5tyt-RfYp0bW"
      },
      "source": [
        "# KMedoids Model"
      ]
    },
    {
      "cell_type": "code",
      "metadata": {
        "id": "7mr-mnNep9Tq",
        "outputId": "577db375-c3cd-441c-cf22-453316140fc7",
        "colab": {
          "base_uri": "https://localhost:8080/"
        }
      },
      "source": [
        "%pip install scikit-learn-extra"
      ],
      "execution_count": 146,
      "outputs": [
        {
          "output_type": "stream",
          "text": [
            "Requirement already satisfied: scikit-learn-extra in /usr/local/lib/python3.6/dist-packages (0.1.0b2)\n",
            "Requirement already satisfied: scipy>=0.19.1 in /usr/local/lib/python3.6/dist-packages (from scikit-learn-extra) (1.4.1)\n",
            "Requirement already satisfied: scikit-learn>=0.21.0 in /usr/local/lib/python3.6/dist-packages (from scikit-learn-extra) (0.22.2.post1)\n",
            "Requirement already satisfied: numpy>=1.13.3 in /usr/local/lib/python3.6/dist-packages (from scikit-learn-extra) (1.18.5)\n",
            "Requirement already satisfied: joblib>=0.11 in /usr/local/lib/python3.6/dist-packages (from scikit-learn>=0.21.0->scikit-learn-extra) (0.17.0)\n"
          ],
          "name": "stdout"
        }
      ]
    },
    {
      "cell_type": "code",
      "metadata": {
        "id": "m9665HIVrG5o",
        "outputId": "c43a34ab-327d-4954-856e-6dcdc2ce26e2",
        "colab": {
          "base_uri": "https://localhost:8080/"
        }
      },
      "source": [
        "from sklearn_extra.cluster import KMedoids\n",
        "kmedoids = KMedoids(n_clusters=2, random_state=0).fit(X_test)\n",
        "y_pred3 = kmedoids.fit_predict(X_test)\n",
        "print(\"Accuracy:\",metrics.accuracy_score(y_test, y_pred3))"
      ],
      "execution_count": 147,
      "outputs": [
        {
          "output_type": "stream",
          "text": [
            "Accuracy: 0.8926666666666667\n"
          ],
          "name": "stdout"
        }
      ]
    },
    {
      "cell_type": "markdown",
      "metadata": {
        "id": "AsSlvTKntJMG"
      },
      "source": [
        "## From the above model evaluations, we come to conclusion that from the three models i.e., KNN; KMeans and KMedoid, KNN has the higher accuracy for our dataset. Thus KNN Model suits best for this dataset. URL of Dataset: https://www.kaggle.com/joshmcadams/oranges-vs-grapefruit\n",
        "---\n"
      ]
    }
  ]
}